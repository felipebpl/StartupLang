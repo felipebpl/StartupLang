{
  "nbformat": 4,
  "nbformat_minor": 0,
  "metadata": {
    "colab": {
      "provenance": [],
      "authorship_tag": "ABX9TyPHsuOjZe3Zh4cRMXaZlLI1",
      "include_colab_link": true
    },
    "kernelspec": {
      "name": "python3",
      "display_name": "Python 3"
    },
    "language_info": {
      "name": "python"
    }
  },
  "cells": [
    {
      "cell_type": "markdown",
      "metadata": {
        "id": "view-in-github",
        "colab_type": "text"
      },
      "source": [
        "<a href=\"https://colab.research.google.com/github/felipebpl/StartupLang/blob/main/aps.ipynb\" target=\"_parent\"><img src=\"https://colab.research.google.com/assets/colab-badge.svg\" alt=\"Open In Colab\"/></a>"
      ]
    },
    {
      "cell_type": "code",
      "execution_count": null,
      "metadata": {
        "id": "StmPvKoaaJmy"
      },
      "outputs": [],
      "source": [
        "# !sudo apt-get install flex bison\n"
      ]
    },
    {
      "cell_type": "code",
      "source": [
        "!bison -d sintatico.y"
      ],
      "metadata": {
        "id": "U9LOG5ckbJK9"
      },
      "execution_count": 97,
      "outputs": []
    },
    {
      "cell_type": "code",
      "source": [
        "!flex lexico.l"
      ],
      "metadata": {
        "id": "_263lAZkbLfJ"
      },
      "execution_count": 98,
      "outputs": []
    },
    {
      "cell_type": "code",
      "source": [
        "!gcc lex.yy.c -o lexer -lfl"
      ],
      "metadata": {
        "id": "daWfq38Jev_o"
      },
      "execution_count": 99,
      "outputs": []
    },
    {
      "cell_type": "code",
      "source": [
        "!gcc lex.yy.c sintatico.tab.c -o compiler -lfl"
      ],
      "metadata": {
        "id": "xFgavfmXfxnN"
      },
      "execution_count": 100,
      "outputs": []
    },
    {
      "cell_type": "code",
      "source": [
        "%%writefile test.go\n",
        "\n",
        "# \"Startup Incrível\"\n",
        "@startup SuperInovadora (valor: 1000000)\n",
        "%investimento SuperInovadora (valor: 200000)\n",
        "@modelo SuperInovadora {\n",
        "    receita: 500000\n",
        "    despesa: 300000\n",
        "}\n",
        "@rodada SerieA {\n",
        "    startup: SuperInovadora investimentos: (InvestidorA, InvestidorB, InvestidorC)\n",
        "}\n",
        "@vaga Desenvolvedor (cargo: \"Engenheiro de Software\")\n"
      ],
      "metadata": {
        "colab": {
          "base_uri": "https://localhost:8080/"
        },
        "id": "XoVjzc_agNcx",
        "outputId": "6c4c8ef7-9233-4d4b-ceca-37383a2696a7"
      },
      "execution_count": 103,
      "outputs": [
        {
          "output_type": "stream",
          "name": "stdout",
          "text": [
            "Overwriting test.go\n"
          ]
        }
      ]
    },
    {
      "cell_type": "code",
      "source": [
        "!./compiler < test.go"
      ],
      "metadata": {
        "colab": {
          "base_uri": "https://localhost:8080/"
        },
        "id": "xzuUFK66g50c",
        "outputId": "dfff73ec-f065-4d8e-bad4-374c8753de72"
      },
      "execution_count": 104,
      "outputs": [
        {
          "output_type": "stream",
          "name": "stdout",
          "text": [
            "Token TITULO\n",
            "Token TEXTO\n",
            "Token DEFINIR_STARTUP\n",
            "Token IDENTIFICADOR\n",
            "Token ABRE_PARENTESES\n",
            "Token LITERAL_VALOR\n",
            "Token VALOR\n",
            "Token FECHA_PARENTESES\n",
            "Token INVESTIMENTO\n",
            "Token IDENTIFICADOR\n",
            "Token ABRE_PARENTESES\n",
            "Token LITERAL_VALOR\n",
            "Token VALOR\n",
            "Token FECHA_PARENTESES\n",
            "Token MODELO_NEGOCIOS\n",
            "Token IDENTIFICADOR\n",
            "Token ABRE_CHAVES\n",
            "Token ITEM_MODELO\n",
            "Token VALOR\n",
            "Token ITEM_MODELO\n",
            "Token VALOR\n",
            "Token FECHA_CHAVES\n",
            "Token RODADA_INVESTIMENTO\n",
            "Token IDENTIFICADOR\n",
            "Token ABRE_CHAVES\n",
            "Token LITERAL_STARTUP\n",
            "Token IDENTIFICADOR\n",
            "Token LITERAL_INVESTIMENTOS\n",
            "Token ABRE_PARENTESES\n",
            "Token IDENTIFICADOR\n",
            "Token VIRGULA\n",
            "Token IDENTIFICADOR\n",
            "Token VIRGULA\n",
            "Token IDENTIFICADOR\n",
            "Token FECHA_PARENTESES\n",
            "Token FECHA_CHAVES\n",
            "Token RECRUTAMENTO\n",
            "Token IDENTIFICADOR\n",
            "Token ABRE_PARENTESES\n",
            "Token LITERAL_CARGO\n",
            "Token TEXTO\n",
            "Token FECHA_PARENTESES\n"
          ]
        }
      ]
    },
    {
      "cell_type": "code",
      "source": [],
      "metadata": {
        "id": "C_yMaZW2hC_B"
      },
      "execution_count": null,
      "outputs": []
    }
  ]
}